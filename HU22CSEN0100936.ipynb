{
  "nbformat": 4,
  "nbformat_minor": 0,
  "metadata": {
    "colab": {
      "provenance": [],
      "authorship_tag": "ABX9TyMkC/6zZnuXECuKqwoTwpzH",
      "include_colab_link": true
    },
    "kernelspec": {
      "name": "python3",
      "display_name": "Python 3"
    },
    "language_info": {
      "name": "python"
    }
  },
  "cells": [
    {
      "cell_type": "markdown",
      "metadata": {
        "id": "view-in-github",
        "colab_type": "text"
      },
      "source": [
        "<a href=\"https://colab.research.google.com/github/karthik100936/SE-TASK-2-0936-2/blob/main/HU22CSEN0100936.ipynb\" target=\"_parent\"><img src=\"https://colab.research.google.com/assets/colab-badge.svg\" alt=\"Open In Colab\"/></a>"
      ]
    },
    {
      "cell_type": "markdown",
      "source": [
        "1.Hardcoding variable"
      ],
      "metadata": {
        "id": "4rYWfgyBM2q2"
      }
    },
    {
      "cell_type": "code",
      "execution_count": 2,
      "metadata": {
        "colab": {
          "base_uri": "https://localhost:8080/"
        },
        "id": "GMNaBSpELqZA",
        "outputId": "2a380a41-5116-4caa-a2c5-614813b18ca9"
      },
      "outputs": [
        {
          "output_type": "stream",
          "name": "stdout",
          "text": [
            "Enter your name: karthik\n",
            "Enter your age: 20\n",
            "Enter your city: bhel\n",
            "Hello karthik, you are 20 years old and live in bhel.\n",
            "Hardcoded info: Name: John, Age: 25, City: New York\n"
          ]
        }
      ],
      "source": [
        "# Step 1: Hardcoded variables\n",
        "name = \"John\"\n",
        "age = 25\n",
        "city = \"New York\"\n",
        "\n",
        "# Step 2: Taking user input\n",
        "user_name = input(\"Enter your name: \")\n",
        "user_age = int(input(\"Enter your age: \"))\n",
        "user_city = input(\"Enter your city: \")\n",
        "\n",
        "\n",
        "print(f\"Hello {user_name}, you are {user_age} years old and live in {user_city}.\")\n",
        "print(f\"Hardcoded info: Name: {name}, Age: {age}, City: {city}\")\n"
      ]
    },
    {
      "cell_type": "markdown",
      "source": [
        "2.\tKeyboard Input"
      ],
      "metadata": {
        "id": "heDvGiC7OxgB"
      }
    },
    {
      "cell_type": "code",
      "source": [
        "# Accepting user input using input() function\n",
        "user_name = input(\"Enter your name: \")\n",
        "user_age = int(input(\"Enter your age: \"))  # Convert the input to an integer\n",
        "user_city = input(\"Enter your city: \")\n",
        "\n",
        "# Displaying the data entered by the user\n",
        "print(f\"Hello {user_name}, you are {user_age} years old and live in {user_city}.\")\n"
      ],
      "metadata": {
        "colab": {
          "base_uri": "https://localhost:8080/"
        },
        "id": "8JpH2pYDNSKj",
        "outputId": "17a556af-55d8-44dc-d5e9-866287c4ec7b"
      },
      "execution_count": 3,
      "outputs": [
        {
          "output_type": "stream",
          "name": "stdout",
          "text": [
            "Enter your name: karthik\n",
            "Enter your age: 20\n",
            "Enter your city: hyderabad\n",
            "Hello karthik, you are 20 years old and live in hyderabad.\n"
          ]
        }
      ]
    },
    {
      "cell_type": "markdown",
      "source": [
        "3.\tRead From File"
      ],
      "metadata": {
        "id": "WPfa3m6FPHOp"
      }
    },
    {
      "cell_type": "code",
      "source": [
        "# Read a single input from a file\n",
        "filename = '/content/3 program task 2.txt'  # File containing a single input\n",
        "\n",
        "try:\n",
        "    with open(filename, 'r') as file:  # Open the file in read mode\n",
        "        single_input = file.readline().strip()  # Read the first line and remove any extra whitespace\n",
        "    print(f\"The input from the file is: {single_input}\")\n",
        "except FileNotFoundError:\n",
        "    print(f\"Error: The file {filename} was not found.\")\n"
      ],
      "metadata": {
        "colab": {
          "base_uri": "https://localhost:8080/"
        },
        "id": "-QLQ99h0PMKY",
        "outputId": "e213366e-66d6-4da3-974f-e9565d34b36d"
      },
      "execution_count": 5,
      "outputs": [
        {
          "output_type": "stream",
          "name": "stdout",
          "text": [
            "The input from the file is: karthik\n"
          ]
        }
      ]
    },
    {
      "cell_type": "markdown",
      "source": [
        "4.\tRead From File (Multiple Inputs):\n"
      ],
      "metadata": {
        "id": "m3PtikRjQLSx"
      }
    },
    {
      "cell_type": "code",
      "source": [
        "# Read multiple inputs from a file and process them\n",
        "filename = '/content/multiple task 3.txt'  # File containing multiple inputs\n",
        "\n",
        "try:\n",
        "    with open(filename, 'r') as file:\n",
        "        # Read all lines from the file\n",
        "        lines = file.readlines()\n",
        "\n",
        "    # Process each line\n",
        "    for line in lines:\n",
        "        # Split the line into name, age, and city\n",
        "        name, age, city = line.strip().split(',')\n",
        "\n",
        "        # Display the processed data\n",
        "        print(f\"Name: {name}, Age: {age}, City: {city}\")\n",
        "\n",
        "except FileNotFoundError:\n",
        "    print(f\"Error: The file {filename} was not found.\")\n"
      ],
      "metadata": {
        "colab": {
          "base_uri": "https://localhost:8080/"
        },
        "id": "y-FH7ebdQSzp",
        "outputId": "572a9acc-533d-4a9e-9be9-cf659d73d1e8"
      },
      "execution_count": 6,
      "outputs": [
        {
          "output_type": "stream",
          "name": "stdout",
          "text": [
            "Name: karthik, Age: 25, City: New York\n",
            "Name: sunny, Age: 30, City: Los Angeles\n",
            "Name: udith, Age: 35, City: Chicago\n"
          ]
        }
      ]
    },
    {
      "cell_type": "markdown",
      "source": [
        "5.\tSave All Versions"
      ],
      "metadata": {
        "id": "rIH9j-GzTh36"
      }
    },
    {
      "cell_type": "code",
      "source": [
        "# Write multiple numbers to a file\n",
        "with open('multiple_inputs.txt', 'w') as file:\n",
        "    file.write(\"10\\n20\\n30\")  # Write multiple numbers, each on a new line\n",
        "\n",
        "print(\"multiple_inputs.txt created!\")  # Confirmation message"
      ],
      "metadata": {
        "colab": {
          "base_uri": "https://localhost:8080/"
        },
        "id": "qGEc2iPcVTO3",
        "outputId": "2a20c932-1906-4923-b184-d4e2a8909ee7"
      },
      "execution_count": 10,
      "outputs": [
        {
          "output_type": "stream",
          "name": "stdout",
          "text": [
            "multiple_inputs.txt created!\n"
          ]
        }
      ]
    },
    {
      "cell_type": "markdown",
      "source": [
        "6.\tDebug and Fix Errors"
      ],
      "metadata": {
        "id": "wH8UVrZ-XipF"
      }
    },
    {
      "cell_type": "code",
      "source": [
        "# Read From File (Multiple Inputs) Example\n",
        "# Program: Read multiple numbers from a file and calculate their sum\n",
        "\n",
        "try:\n",
        "    with open('multiple_inputs.txt', 'r') as file:\n",
        "        numbers = file.readlines()  # Read all lines from the file\n",
        "        numbers = [int(num.strip()) for num in numbers]  # Convert each line to an integer\n",
        "\n",
        "    result = sum(numbers)  # Calculate the sum of the numbers\n",
        "    print(f\"Numbers from file: {numbers}, Sum: {result}\")  # Output the numbers and their sum\n",
        "\n",
        "except FileNotFoundError:\n",
        "    print(\"File not found. Please create a file named 'multiple_inputs.txt'.\")\n",
        "except ValueError:\n",
        "    print(\"File content must contain valid integers.\")"
      ],
      "metadata": {
        "colab": {
          "base_uri": "https://localhost:8080/"
        },
        "id": "UU1_giWzXlQ8",
        "outputId": "9fd7ca56-5e13-409f-cacb-7de6f40598af"
      },
      "execution_count": 11,
      "outputs": [
        {
          "output_type": "stream",
          "name": "stdout",
          "text": [
            "Numbers from file: [10, 20, 30], Sum: 60\n"
          ]
        }
      ]
    }
  ]
}